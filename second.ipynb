{
 "cells": [
  {
   "cell_type": "code",
   "execution_count": 1,
   "id": "fe4ac328",
   "metadata": {},
   "outputs": [
    {
     "name": "stdout",
     "output_type": "stream",
     "text": [
      "새로만든 2번째 파일!!\n"
     ]
    }
   ],
   "source": [
    "print(\"새로만든 2번째 파일!!\")"
   ]
  },
  {
   "cell_type": "code",
   "execution_count": 2,
   "id": "bab3264b",
   "metadata": {},
   "outputs": [
    {
     "name": "stdout",
     "output_type": "stream",
     "text": [
      "Hello~!!\n"
     ]
    }
   ],
   "source": [
    "print(\"Hello~!!\")"
   ]
  },
  {
   "cell_type": "code",
   "execution_count": 3,
   "id": "e84d45c1",
   "metadata": {},
   "outputs": [
    {
     "name": "stdout",
     "output_type": "stream",
     "text": [
      "Hello 맛점했어!\n"
     ]
    }
   ],
   "source": [
    "print(\"Hello 맛점했어!\")"
   ]
  }
 ],
 "metadata": {
  "kernelspec": {
   "display_name": "Python 3",
   "language": "python",
   "name": "python3"
  },
  "language_info": {
   "codemirror_mode": {
    "name": "ipython",
    "version": 3
   },
   "file_extension": ".py",
   "mimetype": "text/x-python",
   "name": "python",
   "nbconvert_exporter": "python",
   "pygments_lexer": "ipython3",
   "version": "3.12.1"
  }
 },
 "nbformat": 4,
 "nbformat_minor": 5
}
